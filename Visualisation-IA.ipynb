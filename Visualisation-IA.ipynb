{
  "nbformat": 4,
  "nbformat_minor": 0,
  "metadata": {
    "colab": {
      "name": "Visualisation.ipynb",
      "provenance": []
    },
    "kernelspec": {
      "name": "python3",
      "display_name": "Python 3"
    },
    "language_info": {
      "name": "python"
    }
  },
  "cells": [
    {
      "cell_type": "code",
      "execution_count": null,
      "metadata": {
        "id": "wOWeQnLq-KpZ"
      },
      "outputs": [],
      "source": [
        "import numpy as np\n",
        "import pandas as pd\n",
        "import matplotlib.pyplot as plt\n",
        "import seaborn as sns"
      ]
    },
    {
      "cell_type": "code",
      "source": [
        "df=pd.read_csv(\"/content/bd-vaccination.csv\",error_bad_lines=False,encoding = \"utf-8\",)"
      ],
      "metadata": {
        "id": "6I3PHs_2-qc7"
      },
      "execution_count": null,
      "outputs": []
    },
    {
      "cell_type": "code",
      "source": [
        "df"
      ],
      "metadata": {
        "colab": {
          "base_uri": "https://localhost:8080/",
          "height": 423
        },
        "id": "fVe-BAHm-47e",
        "outputId": "0f77f210-b3c8-4279-9e87-a8509da1a9df"
      },
      "execution_count": null,
      "outputs": [
        {
          "output_type": "execute_result",
          "data": {
            "text/html": [
              "\n",
              "  <div id=\"df-f6499772-ddb2-4e8d-9633-6b62daf3d6a9\">\n",
              "    <div class=\"colab-df-container\">\n",
              "      <div>\n",
              "<style scoped>\n",
              "    .dataframe tbody tr th:only-of-type {\n",
              "        vertical-align: middle;\n",
              "    }\n",
              "\n",
              "    .dataframe tbody tr th {\n",
              "        vertical-align: top;\n",
              "    }\n",
              "\n",
              "    .dataframe thead th {\n",
              "        text-align: right;\n",
              "    }\n",
              "</style>\n",
              "<table border=\"1\" class=\"dataframe\">\n",
              "  <thead>\n",
              "    <tr style=\"text-align: right;\">\n",
              "      <th></th>\n",
              "      <th>les commentaires</th>\n",
              "      <th>sentiments</th>\n",
              "      <th>sarcasme</th>\n",
              "      <th>mois</th>\n",
              "      <th>année</th>\n",
              "    </tr>\n",
              "  </thead>\n",
              "  <tbody>\n",
              "    <tr>\n",
              "      <th>0</th>\n",
              "      <td>ياخي الأطفال مازالو ما قيدوش و عندهم الأولوية ...</td>\n",
              "      <td>1</td>\n",
              "      <td>0</td>\n",
              "      <td>Juin</td>\n",
              "      <td>2021</td>\n",
              "    </tr>\n",
              "    <tr>\n",
              "      <th>1</th>\n",
              "      <td>ياخي  كان  كي  يوصلك  msg  ولا  حملة  ل الكل</td>\n",
              "      <td>1</td>\n",
              "      <td>0</td>\n",
              "      <td>Juin</td>\n",
              "      <td>2021</td>\n",
              "    </tr>\n",
              "    <tr>\n",
              "      <th>2</th>\n",
              "      <td>ياحليلى باش نموت ها مودرنا عملت فيا</td>\n",
              "      <td>1</td>\n",
              "      <td>0</td>\n",
              "      <td>Juin</td>\n",
              "      <td>2021</td>\n",
              "    </tr>\n",
              "    <tr>\n",
              "      <th>3</th>\n",
              "      <td>يا ولدي ماعنديش حتى مشكلة مع التلقيح مشكلتي ال...</td>\n",
              "      <td>1</td>\n",
              "      <td>0</td>\n",
              "      <td>Juin</td>\n",
              "      <td>2021</td>\n",
              "    </tr>\n",
              "    <tr>\n",
              "      <th>4</th>\n",
              "      <td>يا ولادي وقتاش ناوين؟</td>\n",
              "      <td>1</td>\n",
              "      <td>0</td>\n",
              "      <td>Juin</td>\n",
              "      <td>2021</td>\n",
              "    </tr>\n",
              "    <tr>\n",
              "      <th>...</th>\n",
              "      <td>...</td>\n",
              "      <td>...</td>\n",
              "      <td>...</td>\n",
              "      <td>...</td>\n",
              "      <td>...</td>\n",
              "    </tr>\n",
              "    <tr>\n",
              "      <th>28741</th>\n",
              "      <td>الله لا يربحكم .. تو المشكلة ولت في الوافدين!!...</td>\n",
              "      <td>-1</td>\n",
              "      <td>1</td>\n",
              "      <td>Novembre</td>\n",
              "      <td>2021</td>\n",
              "    </tr>\n",
              "    <tr>\n",
              "      <th>28742</th>\n",
              "      <td>كملتو الحج و عملتو حجر صحي للتوانسة</td>\n",
              "      <td>-1</td>\n",
              "      <td>1</td>\n",
              "      <td>Novembre</td>\n",
              "      <td>2021</td>\n",
              "    </tr>\n",
              "    <tr>\n",
              "      <th>28743</th>\n",
              "      <td>اعمل طلة على الطوالاتات تو يلخصولك البروتوكول ...</td>\n",
              "      <td>-1</td>\n",
              "      <td>1</td>\n",
              "      <td>Novembre</td>\n",
              "      <td>2021</td>\n",
              "    </tr>\n",
              "    <tr>\n",
              "      <th>28744</th>\n",
              "      <td>حامين رواحهم و لابسينffp2  والباقي بافات تكفي ...</td>\n",
              "      <td>-1</td>\n",
              "      <td>1</td>\n",
              "      <td>Novembre</td>\n",
              "      <td>2021</td>\n",
              "    </tr>\n",
              "    <tr>\n",
              "      <th>28745</th>\n",
              "      <td>سبحان الله الكل لابسين des masques كيف روحت في...</td>\n",
              "      <td>-1</td>\n",
              "      <td>1</td>\n",
              "      <td>Novembre</td>\n",
              "      <td>2021</td>\n",
              "    </tr>\n",
              "  </tbody>\n",
              "</table>\n",
              "<p>28746 rows × 5 columns</p>\n",
              "</div>\n",
              "      <button class=\"colab-df-convert\" onclick=\"convertToInteractive('df-f6499772-ddb2-4e8d-9633-6b62daf3d6a9')\"\n",
              "              title=\"Convert this dataframe to an interactive table.\"\n",
              "              style=\"display:none;\">\n",
              "        \n",
              "  <svg xmlns=\"http://www.w3.org/2000/svg\" height=\"24px\"viewBox=\"0 0 24 24\"\n",
              "       width=\"24px\">\n",
              "    <path d=\"M0 0h24v24H0V0z\" fill=\"none\"/>\n",
              "    <path d=\"M18.56 5.44l.94 2.06.94-2.06 2.06-.94-2.06-.94-.94-2.06-.94 2.06-2.06.94zm-11 1L8.5 8.5l.94-2.06 2.06-.94-2.06-.94L8.5 2.5l-.94 2.06-2.06.94zm10 10l.94 2.06.94-2.06 2.06-.94-2.06-.94-.94-2.06-.94 2.06-2.06.94z\"/><path d=\"M17.41 7.96l-1.37-1.37c-.4-.4-.92-.59-1.43-.59-.52 0-1.04.2-1.43.59L10.3 9.45l-7.72 7.72c-.78.78-.78 2.05 0 2.83L4 21.41c.39.39.9.59 1.41.59.51 0 1.02-.2 1.41-.59l7.78-7.78 2.81-2.81c.8-.78.8-2.07 0-2.86zM5.41 20L4 18.59l7.72-7.72 1.47 1.35L5.41 20z\"/>\n",
              "  </svg>\n",
              "      </button>\n",
              "      \n",
              "  <style>\n",
              "    .colab-df-container {\n",
              "      display:flex;\n",
              "      flex-wrap:wrap;\n",
              "      gap: 12px;\n",
              "    }\n",
              "\n",
              "    .colab-df-convert {\n",
              "      background-color: #E8F0FE;\n",
              "      border: none;\n",
              "      border-radius: 50%;\n",
              "      cursor: pointer;\n",
              "      display: none;\n",
              "      fill: #1967D2;\n",
              "      height: 32px;\n",
              "      padding: 0 0 0 0;\n",
              "      width: 32px;\n",
              "    }\n",
              "\n",
              "    .colab-df-convert:hover {\n",
              "      background-color: #E2EBFA;\n",
              "      box-shadow: 0px 1px 2px rgba(60, 64, 67, 0.3), 0px 1px 3px 1px rgba(60, 64, 67, 0.15);\n",
              "      fill: #174EA6;\n",
              "    }\n",
              "\n",
              "    [theme=dark] .colab-df-convert {\n",
              "      background-color: #3B4455;\n",
              "      fill: #D2E3FC;\n",
              "    }\n",
              "\n",
              "    [theme=dark] .colab-df-convert:hover {\n",
              "      background-color: #434B5C;\n",
              "      box-shadow: 0px 1px 3px 1px rgba(0, 0, 0, 0.15);\n",
              "      filter: drop-shadow(0px 1px 2px rgba(0, 0, 0, 0.3));\n",
              "      fill: #FFFFFF;\n",
              "    }\n",
              "  </style>\n",
              "\n",
              "      <script>\n",
              "        const buttonEl =\n",
              "          document.querySelector('#df-f6499772-ddb2-4e8d-9633-6b62daf3d6a9 button.colab-df-convert');\n",
              "        buttonEl.style.display =\n",
              "          google.colab.kernel.accessAllowed ? 'block' : 'none';\n",
              "\n",
              "        async function convertToInteractive(key) {\n",
              "          const element = document.querySelector('#df-f6499772-ddb2-4e8d-9633-6b62daf3d6a9');\n",
              "          const dataTable =\n",
              "            await google.colab.kernel.invokeFunction('convertToInteractive',\n",
              "                                                     [key], {});\n",
              "          if (!dataTable) return;\n",
              "\n",
              "          const docLinkHtml = 'Like what you see? Visit the ' +\n",
              "            '<a target=\"_blank\" href=https://colab.research.google.com/notebooks/data_table.ipynb>data table notebook</a>'\n",
              "            + ' to learn more about interactive tables.';\n",
              "          element.innerHTML = '';\n",
              "          dataTable['output_type'] = 'display_data';\n",
              "          await google.colab.output.renderOutput(dataTable, element);\n",
              "          const docLink = document.createElement('div');\n",
              "          docLink.innerHTML = docLinkHtml;\n",
              "          element.appendChild(docLink);\n",
              "        }\n",
              "      </script>\n",
              "    </div>\n",
              "  </div>\n",
              "  "
            ],
            "text/plain": [
              "                                       les commentaires   ...  année\n",
              "0      ياخي الأطفال مازالو ما قيدوش و عندهم الأولوية ...  ...   2021\n",
              "1           ياخي  كان  كي  يوصلك  msg  ولا  حملة  ل الكل  ...   2021\n",
              "2                    ياحليلى باش نموت ها مودرنا عملت فيا  ...   2021\n",
              "3      يا ولدي ماعنديش حتى مشكلة مع التلقيح مشكلتي ال...  ...   2021\n",
              "4                                  يا ولادي وقتاش ناوين؟  ...   2021\n",
              "...                                                  ...  ...    ...\n",
              "28741  الله لا يربحكم .. تو المشكلة ولت في الوافدين!!...  ...   2021\n",
              "28742                كملتو الحج و عملتو حجر صحي للتوانسة  ...   2021\n",
              "28743  اعمل طلة على الطوالاتات تو يلخصولك البروتوكول ...  ...   2021\n",
              "28744  حامين رواحهم و لابسينffp2  والباقي بافات تكفي ...  ...   2021\n",
              "28745  سبحان الله الكل لابسين des masques كيف روحت في...  ...   2021\n",
              "\n",
              "[28746 rows x 5 columns]"
            ]
          },
          "metadata": {},
          "execution_count": 4
        }
      ]
    },
    {
      "cell_type": "code",
      "source": [
        "for i in range (0,28746):\n",
        "  if df[\"mois\"][i] in ['Aout',\"Août\"] :\n",
        "    df['mois'][i]='Aout'"
      ],
      "metadata": {
        "colab": {
          "base_uri": "https://localhost:8080/"
        },
        "id": "uvU-LKtlHa08",
        "outputId": "74999b17-3985-49e4-d043-32f5b56cb502"
      },
      "execution_count": null,
      "outputs": [
        {
          "output_type": "stream",
          "name": "stderr",
          "text": [
            "/usr/local/lib/python3.7/dist-packages/ipykernel_launcher.py:3: SettingWithCopyWarning: \n",
            "A value is trying to be set on a copy of a slice from a DataFrame\n",
            "\n",
            "See the caveats in the documentation: https://pandas.pydata.org/pandas-docs/stable/user_guide/indexing.html#returning-a-view-versus-a-copy\n",
            "  This is separate from the ipykernel package so we can avoid doing imports until\n"
          ]
        }
      ]
    },
    {
      "cell_type": "markdown",
      "source": [
        "POURCENTAGE DE COMMENTAIRES COVID POUR CHAQUE MOIS"
      ],
      "metadata": {
        "id": "C_EApluX4zBP"
      }
    },
    {
      "cell_type": "code",
      "source": [
        "\n",
        "countaout = len(df[df.mois == 'Aout'])\n",
        "countjuin = len(df[df.mois == 'Juin'])\n",
        "countmai = len(df[df.mois == 'Mai'])\n",
        "countjuillet = len(df[df.mois== 'Juillet'])\n",
        "countmars = len(df[df.mois == 'Mars'])\n",
        "countnovembre = len(df[df.mois== 'Novembre'])\n",
        "countavril = len(df[df.mois =='Avril'])\n",
        "countoctobre = len(df[df.mois =='Octobre'])\n",
        "\n",
        "print(\"Percentage des commentaires durant le mois de Mars: {:.2f}%\".format(round((float(countmars) / len(df.mois)) *100)))\n",
        "print(\"Percentage des commentaires durant le mois d'Avril: {:.2f}%\".format(round((float(countavril) / len(df.mois)) *100)))\n",
        "\n",
        "print(\"Percentage des commentaires durant le mois de Mai: {:.2f}%\".format(round((float(countmai) / len(df.mois)) *100)))\n",
        "print(\"Percentage des commentaires durant le mois de Juin: {:.2f}%\".format(round((float(countjuin) / len(df.mois)) *100)))\n",
        "\n",
        "print(\"Percentage des commentaires durant le mois de Juillet: {:.2f}%\".format(round((float(countjuillet) / len(df.mois)) *100)))\n",
        "print(\"Percentage des commentaires durant le mois de Aout: {:.2f}%\".format(round((float(countaout) / len(df.mois)) *100)))\n",
        "\n",
        "print(\"Percentage des commentaires durant le mois d'octobre: {:.2f}%\".format(round((float(countoctobre) / len(df.mois)) *100)))\n",
        "print(\"Percentage des commentaires durant le mois de Novembre: {:.2f}%\".format(round((float(countnovembre) / len(df.mois)) *100)))"
      ],
      "metadata": {
        "colab": {
          "base_uri": "https://localhost:8080/"
        },
        "id": "UQ8VU6GlrXFy",
        "outputId": "62392db8-6878-4a45-95c6-67fb5c6f1e23"
      },
      "execution_count": null,
      "outputs": [
        {
          "output_type": "stream",
          "name": "stdout",
          "text": [
            "Percentage of comments in March: 11.00%\n",
            "Percentage of comments in April: 10.00%\n",
            "Percentage of comments in May: 14.00%\n",
            "Percentage of comments in june: 14.00%\n",
            "Percentage of comments in july: 14.00%\n",
            "Percentage of comments in august: 19.00%\n",
            "Percentage of comments in october: 7.00%\n",
            "Percentage of comments in november: 11.00%\n"
          ]
        }
      ]
    },
    {
      "cell_type": "code",
      "source": [
        "Année=(df['année'].value_counts())\n",
        "Année"
      ],
      "metadata": {
        "colab": {
          "base_uri": "https://localhost:8080/"
        },
        "id": "gxnLwZ1YNLlk",
        "outputId": "d9540679-4680-4e4a-8f42-5bba20361758"
      },
      "execution_count": null,
      "outputs": [
        {
          "output_type": "execute_result",
          "data": {
            "text/plain": [
              "2021    28746\n",
              "Name: année, dtype: int64"
            ]
          },
          "metadata": {},
          "execution_count": 16
        }
      ]
    },
    {
      "cell_type": "markdown",
      "source": [
        "POURCENTAGE DE COMMENTAIRES POSITIVES, NEGATIVES ET NEUTRES"
      ],
      "metadata": {
        "id": "11qQIqgV5E9X"
      }
    },
    {
      "cell_type": "code",
      "source": [
        "df_all = df.copy()\n",
        "import matplotlib.pyplot as plt\n",
        "\n",
        "\n",
        "def plot_pie(column, title=\"All\"):\n",
        "    fig,axs = plt.subplots(1,1)\n",
        "    data = df_all[column].value_counts()\n",
        "    plt.pie(data,autopct='%1.2f%%',labels=data.index)\n",
        "    plt.title(title)\n",
        "    plt.show()"
      ],
      "metadata": {
        "id": "ad28AySnIlxj"
      },
      "execution_count": null,
      "outputs": []
    },
    {
      "cell_type": "code",
      "source": [
        "plot_pie('sentiments')"
      ],
      "metadata": {
        "colab": {
          "base_uri": "https://localhost:8080/",
          "height": 264
        },
        "id": "BT1p9yJWIoaG",
        "outputId": "d2f8c5f2-aa95-483b-a54f-a174851f7762"
      },
      "execution_count": null,
      "outputs": [
        {
          "output_type": "display_data",
          "data": {
            "image/png": "[encoded data removed]",
            "text/plain": [
              "<Figure size 432x288 with 1 Axes>"
            ]
          },
          "metadata": {}
        }
      ]
    },
    {
      "cell_type": "markdown",
      "source": [
        "POURCENTAGE DE COMMENTAIRES SARCASTIQUES POSITIVES ET NEGATIVES"
      ],
      "metadata": {
        "id": "_lHTyhAS5WK-"
      }
    },
    {
      "cell_type": "code",
      "source": [
        "plot_pie(\"sarcasme\")"
      ],
      "metadata": {
        "colab": {
          "base_uri": "https://localhost:8080/",
          "height": 264
        },
        "id": "r2NUBlgEIqin",
        "outputId": "b37ef23a-5860-4700-fcf8-aa9862f9d6d5"
      },
      "execution_count": null,
      "outputs": [
        {
          "output_type": "display_data",
          "data": {
            "image/png": "[encoded data removed]",
            "text/plain": [
              "<Figure size 432x288 with 1 Axes>"
            ]
          },
          "metadata": {}
        }
      ]
    },
    {
      "cell_type": "markdown",
      "source": [
        "REPARTITION DES COMMENTAIRES POUR CHAQUE CLASSES "
      ],
      "metadata": {
        "id": "OvrkXWk85r-O"
      }
    },
    {
      "cell_type": "code",
      "source": [
        "s=(df['sentiments']).value_counts()\n",
        "print(s)\n"
      ],
      "metadata": {
        "colab": {
          "base_uri": "https://localhost:8080/"
        },
        "id": "bSCwvYNvyyEd",
        "outputId": "c8d7f31c-055e-4a72-9e43-f9859150a21b"
      },
      "execution_count": null,
      "outputs": [
        {
          "output_type": "stream",
          "name": "stdout",
          "text": [
            "-1    11182\n",
            " 1     9455\n",
            " 0     8109\n",
            "Name: sentiments, dtype: int64\n"
          ]
        }
      ]
    },
    {
      "cell_type": "markdown",
      "source": [
        "EVOLUTION DE L'OPTIMISME TUNISIEN A PROPOS DU COVID SELON LE MOIS"
      ],
      "metadata": {
        "id": "VStZ1bVR51rM"
      }
    },
    {
      "cell_type": "code",
      "source": [
        "pd.crosstab(df.mois,df.sentiments).plot(kind=\"bar\",figsize=(20,6))\n",
        "plt.title('frequence de sentiment par mois  ')\n",
        "plt.xlabel('mois')\n",
        "plt.ylabel('sentiment')\n",
        "plt.show()"
      ],
      "metadata": {
        "colab": {
          "base_uri": "https://localhost:8080/",
          "height": 422
        },
        "id": "0AvZfN9SNuGr",
        "outputId": "7e65f1e0-e750-47c2-9968-a56c8ace4c08"
      },
      "execution_count": null,
      "outputs": [
        {
          "output_type": "display_data",
          "data": {
            "image/png": "[encoded data removed]",
            "text/plain": [
              "<Figure size 1440x432 with 1 Axes>"
            ]
          },
          "metadata": {
            "needs_background": "light"
          }
        }
      ]
    },
    {
      "cell_type": "markdown",
      "source": [
        "RELATION ENTRE LA POLARITE DES COMMENTAIRES ET DE LA PRESENCE DU SARCASME"
      ],
      "metadata": {
        "id": "XjZ3MEYW6J_T"
      }
    },
    {
      "cell_type": "code",
      "source": [
        "pd.crosstab(df.sarcasme,df.sentiments).plot(kind=\"bar\",figsize=(15,6),color=['#11A5AA','#AA1190','pink'])\n",
        "plt.title('Relation entre sarcasme et sentiment ')\n",
        "plt.xlabel('sarcasme')\n",
        "plt.xticks(rotation = 0)\n",
        "plt.ylabel('Frequency of sentiments')\n",
        "plt.show()"
      ],
      "metadata": {
        "colab": {
          "base_uri": "https://localhost:8080/",
          "height": 404
        },
        "id": "-rpPgvzSA99O",
        "outputId": "2d8526c5-d69c-4a06-98da-069842eae375"
      },
      "execution_count": null,
      "outputs": [
        {
          "output_type": "display_data",
          "data": {
            "image/png": "[encoded data removed]",
            "text/plain": [
              "<Figure size 1080x432 with 1 Axes>"
            ]
          },
          "metadata": {
            "needs_background": "light"
          }
        }
      ]
    },
    {
      "cell_type": "code",
      "source": [
        ""
      ],
      "metadata": {
        "id": "EfsKbglsIumO"
      },
      "execution_count": null,
      "outputs": []
    },
    {
      "cell_type": "markdown",
      "source": [
        ""
      ],
      "metadata": {
        "id": "JwpJzgxP4xXF"
      }
    }
  ]
}